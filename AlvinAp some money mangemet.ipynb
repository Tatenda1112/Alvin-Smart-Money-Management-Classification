{
 "cells": [
  {
   "cell_type": "markdown",
   "metadata": {
    "id": "PvKRBlqreh9N"
   },
   "source": [
    "# AlvinApp Smart money mangement Classification "
   ]
  },
  {
   "cell_type": "markdown",
   "metadata": {
    "id": "iYdpBYYceneg"
   },
   "source": [
    "## Importing libraries"
   ]
  },
  {
   "cell_type": "code",
   "execution_count": 2,
   "metadata": {
    "id": "06kkNxjIdgSW"
   },
   "outputs": [],
   "source": [
    "# Dataframe and Plotting libraries\n",
    "import pandas as pd\n",
    "import numpy as np\n",
    "import seaborn as sns\n",
    "import matplotlib.pyplot as plt\n",
    "\n",
    "# Machine Learning libraries\n",
    "from sklearn.preprocessing import StandardScaler\n",
    "from sklearn.tree import DecisionTreeClassifier\n",
    "from sklearn.metrics import accuracy_score, classification_report\n",
    "from sklearn.model_selection import train_test_split\n",
    "from sklearn.metrics import log_loss\n",
    "\n",
    "\n",
    "pd.set_option('display.max_columns', None)\n",
    "# from google.colab import files\n",
    "import warnings\n",
    "warnings.filterwarnings('ignore')"
   ]
  },
  {
   "cell_type": "markdown",
   "metadata": {
    "id": "J8AhJ0cKer7b"
   },
   "source": [
    "## 1. Load the dataset"
   ]
  },
  {
   "cell_type": "code",
   "execution_count": 7,
   "metadata": {
    "id": "aPn2dmoMexCU"
   },
   "outputs": [],
   "source": [
    "# Load the files into a Pandas Dataframe\n",
    "train = pd.read_csv('Train.csv')\n",
    "test = pd.read_csv('Test.csv')\n"
   ]
  },
  {
   "cell_type": "code",
   "execution_count": 8,
   "metadata": {
    "colab": {
     "base_uri": "https://localhost:8080/"
    },
    "id": "HSj_1Qz7ezsw",
    "outputId": "46425755-d8be-4bab-9d03-4e491eb3162a"
   },
   "outputs": [
    {
     "name": "stdout",
     "output_type": "stream",
     "text": [
      "Train data shape : (373, 12)\n",
      "Test data shape : (558, 11)\n"
     ]
    }
   ],
   "source": [
    "# Let’s observe the shape of our datasets.\n",
    "print('Train data shape :', train.shape)\n",
    "print('Test data shape :', test.shape)"
   ]
  },
  {
   "cell_type": "code",
   "execution_count": 9,
   "metadata": {
    "colab": {
     "base_uri": "https://localhost:8080/",
     "height": 392
    },
    "id": "aeKToQ98lOVe",
    "outputId": "e3a03f67-a89b-4e9c-ca01-d5d713bc9f1b"
   },
   "outputs": [
    {
     "data": {
      "text/html": [
       "<div>\n",
       "<style scoped>\n",
       "    .dataframe tbody tr th:only-of-type {\n",
       "        vertical-align: middle;\n",
       "    }\n",
       "\n",
       "    .dataframe tbody tr th {\n",
       "        vertical-align: top;\n",
       "    }\n",
       "\n",
       "    .dataframe thead th {\n",
       "        text-align: right;\n",
       "    }\n",
       "</style>\n",
       "<table border=\"1\" class=\"dataframe\">\n",
       "  <thead>\n",
       "    <tr style=\"text-align: right;\">\n",
       "      <th></th>\n",
       "      <th>MERCHANT_CATEGORIZED_AT</th>\n",
       "      <th>MERCHANT_NAME</th>\n",
       "      <th>MERCHANT_CATEGORIZED_AS</th>\n",
       "      <th>PURCHASE_VALUE</th>\n",
       "      <th>PURCHASED_AT</th>\n",
       "      <th>IS_PURCHASE_PAID_VIA_MPESA_SEND_MONEY</th>\n",
       "      <th>USER_AGE</th>\n",
       "      <th>USER_GENDER</th>\n",
       "      <th>USER_HOUSEHOLD</th>\n",
       "      <th>USER_INCOME</th>\n",
       "      <th>USER_ID</th>\n",
       "      <th>Transaction_ID</th>\n",
       "    </tr>\n",
       "  </thead>\n",
       "  <tbody>\n",
       "    <tr>\n",
       "      <th>0</th>\n",
       "      <td>2022-05-04 10:25:50.588042+00</td>\n",
       "      <td>UONSDA CHURCH  MOGERE MWAYO TITHE</td>\n",
       "      <td>Rent / Mortgage</td>\n",
       "      <td>1700</td>\n",
       "      <td>2022-05-04 13:56:00+00</td>\n",
       "      <td>False</td>\n",
       "      <td>NaN</td>\n",
       "      <td>Male</td>\n",
       "      <td>3</td>\n",
       "      <td>10000</td>\n",
       "      <td>ID_ZX4DCF4K</td>\n",
       "      <td>ID_04mk78fa</td>\n",
       "    </tr>\n",
       "    <tr>\n",
       "      <th>1</th>\n",
       "      <td>2021-10-25 16:18:38.586837+00</td>\n",
       "      <td>PARK N GO</td>\n",
       "      <td>Transport &amp; Fuel</td>\n",
       "      <td>100</td>\n",
       "      <td>2021-10-24 14:12:00+00</td>\n",
       "      <td>False</td>\n",
       "      <td>25.0</td>\n",
       "      <td>Female</td>\n",
       "      <td>4</td>\n",
       "      <td>90000</td>\n",
       "      <td>ID_U9WZMGJZ</td>\n",
       "      <td>ID_04xkfb07</td>\n",
       "    </tr>\n",
       "    <tr>\n",
       "      <th>2</th>\n",
       "      <td>2022-05-20 14:17:30.917297+00</td>\n",
       "      <td>SAFARICOM OFFERS  TUNUKIWA</td>\n",
       "      <td>Data &amp; WiFi</td>\n",
       "      <td>20</td>\n",
       "      <td>2022-05-27 12:46:00+00</td>\n",
       "      <td>False</td>\n",
       "      <td>NaN</td>\n",
       "      <td>Male</td>\n",
       "      <td>3</td>\n",
       "      <td>10000</td>\n",
       "      <td>ID_ZX4DCF4K</td>\n",
       "      <td>ID_051urwuw</td>\n",
       "    </tr>\n",
       "    <tr>\n",
       "      <th>3</th>\n",
       "      <td>2022-04-12 15:59:14.139347+00</td>\n",
       "      <td>ZILLIONS CREDIT LIMITED</td>\n",
       "      <td>Loan Repayment</td>\n",
       "      <td>3800</td>\n",
       "      <td>2022-02-07 12:16:00+00</td>\n",
       "      <td>False</td>\n",
       "      <td>NaN</td>\n",
       "      <td>Male</td>\n",
       "      <td>5</td>\n",
       "      <td>252000</td>\n",
       "      <td>ID_3JA0MAFB</td>\n",
       "      <td>ID_0e1om7rz</td>\n",
       "    </tr>\n",
       "    <tr>\n",
       "      <th>4</th>\n",
       "      <td>2022-05-04 10:24:26.709045+00</td>\n",
       "      <td>MICHAEL MUSEMBI</td>\n",
       "      <td>Bills &amp; Fees</td>\n",
       "      <td>60</td>\n",
       "      <td>2022-05-04 15:28:00+00</td>\n",
       "      <td>False</td>\n",
       "      <td>NaN</td>\n",
       "      <td>Male</td>\n",
       "      <td>3</td>\n",
       "      <td>10000</td>\n",
       "      <td>ID_ZX4DCF4K</td>\n",
       "      <td>ID_0kfcoawb</td>\n",
       "    </tr>\n",
       "  </tbody>\n",
       "</table>\n",
       "</div>"
      ],
      "text/plain": [
       "         MERCHANT_CATEGORIZED_AT                      MERCHANT_NAME  \\\n",
       "0  2022-05-04 10:25:50.588042+00  UONSDA CHURCH  MOGERE MWAYO TITHE   \n",
       "1  2021-10-25 16:18:38.586837+00                          PARK N GO   \n",
       "2  2022-05-20 14:17:30.917297+00         SAFARICOM OFFERS  TUNUKIWA   \n",
       "3  2022-04-12 15:59:14.139347+00            ZILLIONS CREDIT LIMITED   \n",
       "4  2022-05-04 10:24:26.709045+00                    MICHAEL MUSEMBI   \n",
       "\n",
       "  MERCHANT_CATEGORIZED_AS  PURCHASE_VALUE            PURCHASED_AT  \\\n",
       "0         Rent / Mortgage            1700  2022-05-04 13:56:00+00   \n",
       "1        Transport & Fuel             100  2021-10-24 14:12:00+00   \n",
       "2             Data & WiFi              20  2022-05-27 12:46:00+00   \n",
       "3          Loan Repayment            3800  2022-02-07 12:16:00+00   \n",
       "4            Bills & Fees              60  2022-05-04 15:28:00+00   \n",
       "\n",
       "   IS_PURCHASE_PAID_VIA_MPESA_SEND_MONEY  USER_AGE USER_GENDER  \\\n",
       "0                                  False       NaN        Male   \n",
       "1                                  False      25.0      Female   \n",
       "2                                  False       NaN        Male   \n",
       "3                                  False       NaN        Male   \n",
       "4                                  False       NaN        Male   \n",
       "\n",
       "   USER_HOUSEHOLD  USER_INCOME      USER_ID Transaction_ID  \n",
       "0               3        10000  ID_ZX4DCF4K    ID_04mk78fa  \n",
       "1               4        90000  ID_U9WZMGJZ    ID_04xkfb07  \n",
       "2               3        10000  ID_ZX4DCF4K    ID_051urwuw  \n",
       "3               5       252000  ID_3JA0MAFB    ID_0e1om7rz  \n",
       "4               3        10000  ID_ZX4DCF4K    ID_0kfcoawb  "
      ]
     },
     "execution_count": 9,
     "metadata": {},
     "output_type": "execute_result"
    }
   ],
   "source": [
    "\n",
    "train.head()"
   ]
  },
  {
   "cell_type": "code",
   "execution_count": 10,
   "metadata": {
    "colab": {
     "base_uri": "https://localhost:8080/",
     "height": 780
    },
    "id": "3_E4cGDvstrK",
    "outputId": "bd8ff217-3d67-4ea2-cc07-c2198433ddee"
   },
   "outputs": [
    {
     "data": {
      "text/plain": [
       "<BarContainer object of 373 artists>"
      ]
     },
     "execution_count": 10,
     "metadata": {},
     "output_type": "execute_result"
    },
    {
     "data": {
      "image/png": "[encoded data removed]",
      "text/plain": [
       "<Figure size 800x600 with 1 Axes>"
      ]
     },
     "metadata": {
      "needs_background": "light"
     },
     "output_type": "display_data"
    }
   ],
   "source": [
    "# Show a bar graph of the purchase_value vs the target in the train data (merchant_categorized_as)\n",
    "plt.figure(dpi=200, figsize=(4,3))\n",
    "plt.xticks(rotation=90)\n",
    "plt.bar(data=train, x='MERCHANT_CATEGORIZED_AS', height='PURCHASE_VALUE')"
   ]
  },
  {
   "cell_type": "markdown",
   "metadata": {
    "id": "8NZhaPZIs2xk"
   },
   "source": [
    "It's interesting to note that more money was spent on education than bills & fees, emergency fund, rent/mortgage and loan repayment.\n",
    "\n",
    "Also very little was spent on health and transport & fuel."
   ]
  },
  {
   "cell_type": "markdown",
   "metadata": {
    "id": "wKJswRvsyD8d"
   },
   "source": [
    "Encode the target labels to values to show a correlation matrix."
   ]
  },
  {
   "cell_type": "code",
   "execution_count": 11,
   "metadata": {
    "colab": {
     "base_uri": "https://localhost:8080/"
    },
    "id": "zTPRRb1dyH2R",
    "outputId": "51dff886-5657-468c-be0a-c955660ff7f7"
   },
   "outputs": [
    {
     "name": "stdout",
     "output_type": "stream",
     "text": [
      "Train data:  {'MERCHANT_CATEGORIZED_AS': {'Bills & Fees': 1, 'Data & WiFi': 2, 'Education': 3, 'Emergency fund': 4, 'Family & Friends': 5, 'Going out': 6, 'Groceries': 7, 'Health': 8, 'Loan Repayment': 9, 'Miscellaneous': 10, 'Rent / Mortgage': 11, 'Shopping': 12, 'Transport & Fuel': 13}}\n"
     ]
    }
   ],
   "source": [
    "# Use a dictionary comprehension and zip to create a dictionary for all the categories in the train data\n",
    "labels_train = train['MERCHANT_CATEGORIZED_AS'].astype('category').cat.categories.tolist()\n",
    "replace_map_train = {'MERCHANT_CATEGORIZED_AS' : {k: v for k,v in zip(labels_train,list(range(1,len(labels_train)+1)))}}\n",
    "print(\"Train data: \", replace_map_train)"
   ]
  },
  {
   "cell_type": "code",
   "execution_count": 12,
   "metadata": {
    "id": "YEnKu6HjyM2z"
   },
   "outputs": [],
   "source": [
    "# Create a copy to use for the correlation matrix (as it only accepts numerical data)\n",
    "train_data_corr = train.copy()"
   ]
  },
  {
   "cell_type": "code",
   "execution_count": 13,
   "metadata": {
    "id": "GvFoJNrXyQsp"
   },
   "outputs": [],
   "source": [
    "# Replace the categories with the numerical equivalents from the dictionary\n",
    "train_data_corr.replace(replace_map_train, inplace=True)"
   ]
  },
  {
   "cell_type": "markdown",
   "metadata": {
    "id": "RM0Z7YtByZZ8"
   },
   "source": [
    "Correlation matrix"
   ]
  },
  {
   "cell_type": "code",
   "execution_count": 14,
   "metadata": {
    "colab": {
     "base_uri": "https://localhost:8080/"
    },
    "id": "OunGY3AeyYVC",
    "outputId": "e03cb524-8871-40b7-8e91-187234adbb51"
   },
   "outputs": [
    {
     "data": {
      "text/plain": [
       "MERCHANT_CATEGORIZED_AS                  1.000000\n",
       "PURCHASE_VALUE                          -0.074565\n",
       "IS_PURCHASE_PAID_VIA_MPESA_SEND_MONEY   -0.086870\n",
       "USER_AGE                                 0.143406\n",
       "USER_HOUSEHOLD                          -0.012197\n",
       "USER_INCOME                              0.041954\n",
       "Name: MERCHANT_CATEGORIZED_AS, dtype: float64"
      ]
     },
     "execution_count": 14,
     "metadata": {},
     "output_type": "execute_result"
    }
   ],
   "source": [
    "train_data_corr[train_data_corr.columns[1:]].corr()['MERCHANT_CATEGORIZED_AS'][:]"
   ]
  },
  {
   "cell_type": "markdown",
   "metadata": {
    "id": "_-xUy1m1zSro"
   },
   "source": [
    "We can see that not many things are correlated with MERCHANT_CATEGORIZED_AS, so it seems like we don't have enough data."
   ]
  },
  {
   "cell_type": "markdown",
   "metadata": {
    "id": "brJlTnmLzkiZ"
   },
   "source": [
    "We need to drop empty rows if there are any."
   ]
  },
  {
   "cell_type": "code",
   "execution_count": 15,
   "metadata": {
    "id": "BgS1RoLfzmVY"
   },
   "outputs": [],
   "source": [
    "train.dropna(how='all', inplace=True)\n",
    "test.dropna(how='all', inplace=True)"
   ]
  },
  {
   "cell_type": "code",
   "execution_count": 16,
   "metadata": {
    "colab": {
     "base_uri": "https://localhost:8080/"
    },
    "id": "p7E3HCJrlbzH",
    "outputId": "df336577-dcde-41d7-901d-aa45b62efa6c"
   },
   "outputs": [
    {
     "name": "stdout",
     "output_type": "stream",
     "text": [
      "<class 'pandas.core.frame.DataFrame'>\n",
      "RangeIndex: 373 entries, 0 to 372\n",
      "Data columns (total 12 columns):\n",
      " #   Column                                 Non-Null Count  Dtype  \n",
      "---  ------                                 --------------  -----  \n",
      " 0   MERCHANT_CATEGORIZED_AT                373 non-null    object \n",
      " 1   MERCHANT_NAME                          373 non-null    object \n",
      " 2   MERCHANT_CATEGORIZED_AS                373 non-null    object \n",
      " 3   PURCHASE_VALUE                         373 non-null    int64  \n",
      " 4   PURCHASED_AT                           373 non-null    object \n",
      " 5   IS_PURCHASE_PAID_VIA_MPESA_SEND_MONEY  373 non-null    bool   \n",
      " 6   USER_AGE                               61 non-null     float64\n",
      " 7   USER_GENDER                            367 non-null    object \n",
      " 8   USER_HOUSEHOLD                         373 non-null    int64  \n",
      " 9   USER_INCOME                            373 non-null    int64  \n",
      " 10  USER_ID                                373 non-null    object \n",
      " 11  Transaction_ID                         373 non-null    object \n",
      "dtypes: bool(1), float64(1), int64(3), object(7)\n",
      "memory usage: 32.5+ KB\n"
     ]
    }
   ],
   "source": [
    "train.info()"
   ]
  },
  {
   "cell_type": "code",
   "execution_count": 17,
   "metadata": {
    "colab": {
     "base_uri": "https://localhost:8080/"
    },
    "id": "dO5EObekv7rm",
    "outputId": "630d70c0-8ba9-4bbe-c4a6-a31f03859599"
   },
   "outputs": [
    {
     "name": "stdout",
     "output_type": "stream",
     "text": [
      "<class 'pandas.core.frame.DataFrame'>\n",
      "RangeIndex: 558 entries, 0 to 557\n",
      "Data columns (total 11 columns):\n",
      " #   Column                                 Non-Null Count  Dtype  \n",
      "---  ------                                 --------------  -----  \n",
      " 0   MERCHANT_CATEGORIZED_AT                558 non-null    object \n",
      " 1   MERCHANT_NAME                          558 non-null    object \n",
      " 2   PURCHASE_VALUE                         558 non-null    int64  \n",
      " 3   PURCHASED_AT                           558 non-null    object \n",
      " 4   IS_PURCHASE_PAID_VIA_MPESA_SEND_MONEY  558 non-null    bool   \n",
      " 5   USER_AGE                               85 non-null     float64\n",
      " 6   USER_GENDER                            553 non-null    object \n",
      " 7   USER_HOUSEHOLD                         558 non-null    int64  \n",
      " 8   USER_INCOME                            558 non-null    int64  \n",
      " 9   USER_ID                                558 non-null    object \n",
      " 10  Transaction_ID                         558 non-null    object \n",
      "dtypes: bool(1), float64(1), int64(3), object(6)\n",
      "memory usage: 44.3+ KB\n"
     ]
    }
   ],
   "source": [
    "test.info()"
   ]
  },
  {
   "cell_type": "markdown",
   "metadata": {
    "id": "plxS_TN5lvaR"
   },
   "source": [
    "We can see that the number of entries in Age for the Test set don't correspond to the rest of its entries and for the Train set there are missing entries for Age and for Gender, which means we have some missing values."
   ]
  },
  {
   "cell_type": "code",
   "execution_count": 18,
   "metadata": {
    "colab": {
     "base_uri": "https://localhost:8080/"
    },
    "id": "AHANXSdvmdy8",
    "outputId": "e52e4cd6-b935-4f9f-e519-36899c61e44a"
   },
   "outputs": [
    {
     "name": "stdout",
     "output_type": "stream",
     "text": [
      "Missing values for Train: MERCHANT_CATEGORIZED_AT                    0\n",
      "MERCHANT_NAME                              0\n",
      "MERCHANT_CATEGORIZED_AS                    0\n",
      "PURCHASE_VALUE                             0\n",
      "PURCHASED_AT                               0\n",
      "IS_PURCHASE_PAID_VIA_MPESA_SEND_MONEY      0\n",
      "USER_AGE                                 312\n",
      "USER_GENDER                                6\n",
      "USER_HOUSEHOLD                             0\n",
      "USER_INCOME                                0\n",
      "USER_ID                                    0\n",
      "Transaction_ID                             0\n",
      "dtype: int64\n",
      "\n",
      "Missing values for Test: MERCHANT_CATEGORIZED_AT                    0\n",
      "MERCHANT_NAME                              0\n",
      "PURCHASE_VALUE                             0\n",
      "PURCHASED_AT                               0\n",
      "IS_PURCHASE_PAID_VIA_MPESA_SEND_MONEY      0\n",
      "USER_AGE                                 473\n",
      "USER_GENDER                                5\n",
      "USER_HOUSEHOLD                             0\n",
      "USER_INCOME                                0\n",
      "USER_ID                                    0\n",
      "Transaction_ID                             0\n",
      "dtype: int64\n"
     ]
    }
   ],
   "source": [
    "# We can also use the .isnull() method to check for empty values\n",
    "print('Missing values for Train:', train.isnull().sum())\n",
    "print('')\n",
    "print('Missing values for Test:', test.isnull().sum())"
   ]
  },
  {
   "cell_type": "markdown",
   "metadata": {
    "id": "G4PFdHy_mr9-"
   },
   "source": [
    "There are 4 missing Gender entries and 329 missing Age entries in the train data and 591 missing Age entries for the test data."
   ]
  },
  {
   "cell_type": "code",
   "execution_count": 19,
   "metadata": {
    "colab": {
     "base_uri": "https://localhost:8080/",
     "height": 326
    },
    "id": "lNmbB4W4m-Xy",
    "outputId": "0ee48460-dc9a-4f64-c822-9b5ba73fa363"
   },
   "outputs": [
    {
     "data": {
      "text/html": [
       "<div>\n",
       "<style scoped>\n",
       "    .dataframe tbody tr th:only-of-type {\n",
       "        vertical-align: middle;\n",
       "    }\n",
       "\n",
       "    .dataframe tbody tr th {\n",
       "        vertical-align: top;\n",
       "    }\n",
       "\n",
       "    .dataframe thead th {\n",
       "        text-align: right;\n",
       "    }\n",
       "</style>\n",
       "<table border=\"1\" class=\"dataframe\">\n",
       "  <thead>\n",
       "    <tr style=\"text-align: right;\">\n",
       "      <th></th>\n",
       "      <th>MERCHANT_CATEGORIZED_AT</th>\n",
       "      <th>MERCHANT_NAME</th>\n",
       "      <th>MERCHANT_CATEGORIZED_AS</th>\n",
       "      <th>PURCHASE_VALUE</th>\n",
       "      <th>PURCHASED_AT</th>\n",
       "      <th>IS_PURCHASE_PAID_VIA_MPESA_SEND_MONEY</th>\n",
       "      <th>USER_AGE</th>\n",
       "      <th>USER_GENDER</th>\n",
       "      <th>USER_HOUSEHOLD</th>\n",
       "      <th>USER_INCOME</th>\n",
       "      <th>USER_ID</th>\n",
       "      <th>Transaction_ID</th>\n",
       "    </tr>\n",
       "  </thead>\n",
       "  <tbody>\n",
       "    <tr>\n",
       "      <th>35</th>\n",
       "      <td>2021-11-30 10:51:36.702996+00</td>\n",
       "      <td>IDEAL APPLIANCES</td>\n",
       "      <td>Bills &amp; Fees</td>\n",
       "      <td>24995</td>\n",
       "      <td>2021-05-06 14:14:00+00</td>\n",
       "      <td>False</td>\n",
       "      <td>NaN</td>\n",
       "      <td>NaN</td>\n",
       "      <td>1</td>\n",
       "      <td>10000</td>\n",
       "      <td>ID_R4T8Q46J</td>\n",
       "      <td>ID_3xlptxy6</td>\n",
       "    </tr>\n",
       "    <tr>\n",
       "      <th>137</th>\n",
       "      <td>2021-11-30 10:52:38.553994+00</td>\n",
       "      <td>QUICK MART</td>\n",
       "      <td>Shopping</td>\n",
       "      <td>3298</td>\n",
       "      <td>2021-06-19 15:05:00+00</td>\n",
       "      <td>False</td>\n",
       "      <td>NaN</td>\n",
       "      <td>NaN</td>\n",
       "      <td>1</td>\n",
       "      <td>10000</td>\n",
       "      <td>ID_R4T8Q46J</td>\n",
       "      <td>ID_dhp3d403</td>\n",
       "    </tr>\n",
       "    <tr>\n",
       "      <th>280</th>\n",
       "      <td>2021-08-06 11:28:03.723042+00</td>\n",
       "      <td>EQUITY PAYBILL</td>\n",
       "      <td>Shopping</td>\n",
       "      <td>4000</td>\n",
       "      <td>2021-07-25 10:54:00+00</td>\n",
       "      <td>True</td>\n",
       "      <td>NaN</td>\n",
       "      <td>NaN</td>\n",
       "      <td>1</td>\n",
       "      <td>10000</td>\n",
       "      <td>ID_R4T8Q46J</td>\n",
       "      <td>ID_qvgzrt0r</td>\n",
       "    </tr>\n",
       "    <tr>\n",
       "      <th>309</th>\n",
       "      <td>2021-11-30 10:52:38.553994+00</td>\n",
       "      <td>NAOMI  WANJOHI</td>\n",
       "      <td>Family &amp; Friends</td>\n",
       "      <td>1028</td>\n",
       "      <td>2021-05-13 14:28:00+00</td>\n",
       "      <td>True</td>\n",
       "      <td>NaN</td>\n",
       "      <td>NaN</td>\n",
       "      <td>1</td>\n",
       "      <td>10000</td>\n",
       "      <td>ID_R4T8Q46J</td>\n",
       "      <td>ID_u02b0hl6</td>\n",
       "    </tr>\n",
       "    <tr>\n",
       "      <th>312</th>\n",
       "      <td>2021-11-30 10:51:36.702996+00</td>\n",
       "      <td>POA</td>\n",
       "      <td>Data &amp; WiFi</td>\n",
       "      <td>1500</td>\n",
       "      <td>2021-07-21 17:46:00+00</td>\n",
       "      <td>False</td>\n",
       "      <td>NaN</td>\n",
       "      <td>NaN</td>\n",
       "      <td>1</td>\n",
       "      <td>10000</td>\n",
       "      <td>ID_R4T8Q46J</td>\n",
       "      <td>ID_uvhgthza</td>\n",
       "    </tr>\n",
       "    <tr>\n",
       "      <th>361</th>\n",
       "      <td>2021-11-30 10:51:36.702996+00</td>\n",
       "      <td>MIRIAM  MUNGAI</td>\n",
       "      <td>Family &amp; Friends</td>\n",
       "      <td>1600</td>\n",
       "      <td>2021-06-11 18:25:00+00</td>\n",
       "      <td>True</td>\n",
       "      <td>NaN</td>\n",
       "      <td>NaN</td>\n",
       "      <td>1</td>\n",
       "      <td>10000</td>\n",
       "      <td>ID_R4T8Q46J</td>\n",
       "      <td>ID_yxz5etfz</td>\n",
       "    </tr>\n",
       "  </tbody>\n",
       "</table>\n",
       "</div>"
      ],
      "text/plain": [
       "           MERCHANT_CATEGORIZED_AT     MERCHANT_NAME MERCHANT_CATEGORIZED_AS  \\\n",
       "35   2021-11-30 10:51:36.702996+00  IDEAL APPLIANCES            Bills & Fees   \n",
       "137  2021-11-30 10:52:38.553994+00        QUICK MART                Shopping   \n",
       "280  2021-08-06 11:28:03.723042+00    EQUITY PAYBILL                Shopping   \n",
       "309  2021-11-30 10:52:38.553994+00    NAOMI  WANJOHI        Family & Friends   \n",
       "312  2021-11-30 10:51:36.702996+00               POA             Data & WiFi   \n",
       "361  2021-11-30 10:51:36.702996+00    MIRIAM  MUNGAI        Family & Friends   \n",
       "\n",
       "     PURCHASE_VALUE            PURCHASED_AT  \\\n",
       "35            24995  2021-05-06 14:14:00+00   \n",
       "137            3298  2021-06-19 15:05:00+00   \n",
       "280            4000  2021-07-25 10:54:00+00   \n",
       "309            1028  2021-05-13 14:28:00+00   \n",
       "312            1500  2021-07-21 17:46:00+00   \n",
       "361            1600  2021-06-11 18:25:00+00   \n",
       "\n",
       "     IS_PURCHASE_PAID_VIA_MPESA_SEND_MONEY  USER_AGE USER_GENDER  \\\n",
       "35                                   False       NaN         NaN   \n",
       "137                                  False       NaN         NaN   \n",
       "280                                   True       NaN         NaN   \n",
       "309                                   True       NaN         NaN   \n",
       "312                                  False       NaN         NaN   \n",
       "361                                   True       NaN         NaN   \n",
       "\n",
       "     USER_HOUSEHOLD  USER_INCOME      USER_ID Transaction_ID  \n",
       "35                1        10000  ID_R4T8Q46J    ID_3xlptxy6  \n",
       "137               1        10000  ID_R4T8Q46J    ID_dhp3d403  \n",
       "280               1        10000  ID_R4T8Q46J    ID_qvgzrt0r  \n",
       "309               1        10000  ID_R4T8Q46J    ID_u02b0hl6  \n",
       "312               1        10000  ID_R4T8Q46J    ID_uvhgthza  \n",
       "361               1        10000  ID_R4T8Q46J    ID_yxz5etfz  "
      ]
     },
     "execution_count": 19,
     "metadata": {},
     "output_type": "execute_result"
    }
   ],
   "source": [
    "train[train['USER_GENDER'].isnull()]"
   ]
  },
  {
   "cell_type": "code",
   "execution_count": 20,
   "metadata": {},
   "outputs": [
    {
     "data": {
      "text/html": [
       "<div>\n",
       "<style scoped>\n",
       "    .dataframe tbody tr th:only-of-type {\n",
       "        vertical-align: middle;\n",
       "    }\n",
       "\n",
       "    .dataframe tbody tr th {\n",
       "        vertical-align: top;\n",
       "    }\n",
       "\n",
       "    .dataframe thead th {\n",
       "        text-align: right;\n",
       "    }\n",
       "</style>\n",
       "<table border=\"1\" class=\"dataframe\">\n",
       "  <thead>\n",
       "    <tr style=\"text-align: right;\">\n",
       "      <th></th>\n",
       "      <th>MERCHANT_CATEGORIZED_AT</th>\n",
       "      <th>MERCHANT_NAME</th>\n",
       "      <th>PURCHASE_VALUE</th>\n",
       "      <th>PURCHASED_AT</th>\n",
       "      <th>IS_PURCHASE_PAID_VIA_MPESA_SEND_MONEY</th>\n",
       "      <th>USER_AGE</th>\n",
       "      <th>USER_GENDER</th>\n",
       "      <th>USER_HOUSEHOLD</th>\n",
       "      <th>USER_INCOME</th>\n",
       "      <th>USER_ID</th>\n",
       "      <th>Transaction_ID</th>\n",
       "    </tr>\n",
       "  </thead>\n",
       "  <tbody>\n",
       "    <tr>\n",
       "      <th>124</th>\n",
       "      <td>2021-08-06 11:28:16.857538+00</td>\n",
       "      <td>ACCESS AFYA</td>\n",
       "      <td>1</td>\n",
       "      <td>2021-08-05 09:32:00+00</td>\n",
       "      <td>False</td>\n",
       "      <td>NaN</td>\n",
       "      <td>NaN</td>\n",
       "      <td>1</td>\n",
       "      <td>10000</td>\n",
       "      <td>ID_R4T8Q46J</td>\n",
       "      <td>ID_8oyhw5j0</td>\n",
       "    </tr>\n",
       "    <tr>\n",
       "      <th>138</th>\n",
       "      <td>2021-11-30 10:51:36.702996+00</td>\n",
       "      <td>PETER  INDIMULI</td>\n",
       "      <td>1028</td>\n",
       "      <td>2021-04-08 12:07:00+00</td>\n",
       "      <td>True</td>\n",
       "      <td>NaN</td>\n",
       "      <td>NaN</td>\n",
       "      <td>1</td>\n",
       "      <td>10000</td>\n",
       "      <td>ID_R4T8Q46J</td>\n",
       "      <td>ID_9au0g3qv</td>\n",
       "    </tr>\n",
       "    <tr>\n",
       "      <th>374</th>\n",
       "      <td>2021-11-30 10:51:36.702996+00</td>\n",
       "      <td>MICHELLE  RODROT</td>\n",
       "      <td>827</td>\n",
       "      <td>2021-07-22 13:36:00+00</td>\n",
       "      <td>True</td>\n",
       "      <td>NaN</td>\n",
       "      <td>NaN</td>\n",
       "      <td>1</td>\n",
       "      <td>10000</td>\n",
       "      <td>ID_R4T8Q46J</td>\n",
       "      <td>ID_p5ajidvp</td>\n",
       "    </tr>\n",
       "    <tr>\n",
       "      <th>395</th>\n",
       "      <td>2021-11-30 10:51:36.702996+00</td>\n",
       "      <td>DORCAS  WANJOHI</td>\n",
       "      <td>2600</td>\n",
       "      <td>2021-06-07 14:05:00+00</td>\n",
       "      <td>True</td>\n",
       "      <td>NaN</td>\n",
       "      <td>NaN</td>\n",
       "      <td>1</td>\n",
       "      <td>10000</td>\n",
       "      <td>ID_R4T8Q46J</td>\n",
       "      <td>ID_qd7dgqor</td>\n",
       "    </tr>\n",
       "    <tr>\n",
       "      <th>550</th>\n",
       "      <td>2021-11-30 10:52:38.553994+00</td>\n",
       "      <td>POA</td>\n",
       "      <td>1500</td>\n",
       "      <td>2021-05-22 19:11:00+00</td>\n",
       "      <td>False</td>\n",
       "      <td>NaN</td>\n",
       "      <td>NaN</td>\n",
       "      <td>1</td>\n",
       "      <td>10000</td>\n",
       "      <td>ID_R4T8Q46J</td>\n",
       "      <td>ID_zqi8lti6</td>\n",
       "    </tr>\n",
       "  </tbody>\n",
       "</table>\n",
       "</div>"
      ],
      "text/plain": [
       "           MERCHANT_CATEGORIZED_AT     MERCHANT_NAME  PURCHASE_VALUE  \\\n",
       "124  2021-08-06 11:28:16.857538+00       ACCESS AFYA               1   \n",
       "138  2021-11-30 10:51:36.702996+00   PETER  INDIMULI            1028   \n",
       "374  2021-11-30 10:51:36.702996+00  MICHELLE  RODROT             827   \n",
       "395  2021-11-30 10:51:36.702996+00   DORCAS  WANJOHI            2600   \n",
       "550  2021-11-30 10:52:38.553994+00               POA            1500   \n",
       "\n",
       "               PURCHASED_AT  IS_PURCHASE_PAID_VIA_MPESA_SEND_MONEY  USER_AGE  \\\n",
       "124  2021-08-05 09:32:00+00                                  False       NaN   \n",
       "138  2021-04-08 12:07:00+00                                   True       NaN   \n",
       "374  2021-07-22 13:36:00+00                                   True       NaN   \n",
       "395  2021-06-07 14:05:00+00                                   True       NaN   \n",
       "550  2021-05-22 19:11:00+00                                  False       NaN   \n",
       "\n",
       "    USER_GENDER  USER_HOUSEHOLD  USER_INCOME      USER_ID Transaction_ID  \n",
       "124         NaN               1        10000  ID_R4T8Q46J    ID_8oyhw5j0  \n",
       "138         NaN               1        10000  ID_R4T8Q46J    ID_9au0g3qv  \n",
       "374         NaN               1        10000  ID_R4T8Q46J    ID_p5ajidvp  \n",
       "395         NaN               1        10000  ID_R4T8Q46J    ID_qd7dgqor  \n",
       "550         NaN               1        10000  ID_R4T8Q46J    ID_zqi8lti6  "
      ]
     },
     "execution_count": 20,
     "metadata": {},
     "output_type": "execute_result"
    }
   ],
   "source": [
    "test[test['USER_GENDER'].isnull()]"
   ]
  },
  {
   "cell_type": "code",
   "execution_count": 21,
   "metadata": {},
   "outputs": [
    {
     "data": {
      "text/plain": [
       "Male      197\n",
       "Female    170\n",
       "Name: USER_GENDER, dtype: int64"
      ]
     },
     "execution_count": 21,
     "metadata": {},
     "output_type": "execute_result"
    }
   ],
   "source": [
    "train.USER_GENDER.value_counts()"
   ]
  },
  {
   "cell_type": "code",
   "execution_count": 22,
   "metadata": {},
   "outputs": [
    {
     "data": {
      "text/plain": [
       "Male      307\n",
       "Female    246\n",
       "Name: USER_GENDER, dtype: int64"
      ]
     },
     "execution_count": 22,
     "metadata": {},
     "output_type": "execute_result"
    }
   ],
   "source": [
    "test.USER_GENDER.value_counts()"
   ]
  },
  {
   "cell_type": "code",
   "execution_count": 23,
   "metadata": {},
   "outputs": [],
   "source": [
    "train[\"USER_GENDER\"] = train[\"USER_GENDER\"].apply(lambda x: \"Male\" if pd.isna(x) else x)\n",
    "test[\"USER_GENDER\"] = test[\"USER_GENDER\"].apply(lambda x: \"Male\" if pd.isna(x) else x)"
   ]
  },
  {
   "cell_type": "markdown",
   "metadata": {
    "id": "scNYPbycqeq9"
   },
   "source": [
    "Let's see how this affected our shape"
   ]
  },
  {
   "cell_type": "code",
   "execution_count": 24,
   "metadata": {
    "colab": {
     "base_uri": "https://localhost:8080/"
    },
    "id": "DMfeNkdOqeWy",
    "outputId": "e5f206cc-41c5-4715-eb08-7a7f3fa4b42b"
   },
   "outputs": [
    {
     "data": {
      "text/plain": [
       "(373, 12)"
      ]
     },
     "execution_count": 24,
     "metadata": {},
     "output_type": "execute_result"
    }
   ],
   "source": [
    "train.shape"
   ]
  },
  {
   "cell_type": "markdown",
   "metadata": {
    "id": "GyzBaBWbrBkO"
   },
   "source": [
    "We have various options with regards to filling in the missing values for AGE.\n",
    "Let's impute these values with the median"
   ]
  },
  {
   "cell_type": "code",
   "execution_count": 25,
   "metadata": {
    "id": "ilUVxzfkrK9u"
   },
   "outputs": [],
   "source": [
    "# Impute the missing age entries with the median of that column\n",
    "train_median_value = np.median(train['USER_AGE'].dropna())\n",
    "train['USER_AGE'] = train['USER_AGE'].fillna(train_median_value)\n",
    "\n",
    "test_median_value = np.median(test['USER_AGE'].dropna())\n",
    "test['USER_AGE'] = test['USER_AGE'].fillna(test_median_value)"
   ]
  },
  {
   "cell_type": "code",
   "execution_count": 26,
   "metadata": {
    "colab": {
     "base_uri": "https://localhost:8080/"
    },
    "id": "34cEwW0vrVA0",
    "outputId": "d2deb608-4f7c-4485-d334-420212cbb3c3"
   },
   "outputs": [
    {
     "data": {
      "text/plain": [
       "MERCHANT_CATEGORIZED_AT                  0\n",
       "MERCHANT_NAME                            0\n",
       "MERCHANT_CATEGORIZED_AS                  0\n",
       "PURCHASE_VALUE                           0\n",
       "PURCHASED_AT                             0\n",
       "IS_PURCHASE_PAID_VIA_MPESA_SEND_MONEY    0\n",
       "USER_AGE                                 0\n",
       "USER_GENDER                              0\n",
       "USER_HOUSEHOLD                           0\n",
       "USER_INCOME                              0\n",
       "USER_ID                                  0\n",
       "Transaction_ID                           0\n",
       "dtype: int64"
      ]
     },
     "execution_count": 26,
     "metadata": {},
     "output_type": "execute_result"
    }
   ],
   "source": [
    "# Check that it's done\n",
    "train.isna().sum()"
   ]
  },
  {
   "cell_type": "code",
   "execution_count": 27,
   "metadata": {
    "colab": {
     "base_uri": "https://localhost:8080/"
    },
    "id": "9JWxd6V5xfKO",
    "outputId": "7fadf801-bd3d-4db2-9b15-5f85b5c22f9b"
   },
   "outputs": [
    {
     "data": {
      "text/plain": [
       "MERCHANT_CATEGORIZED_AT                  0\n",
       "MERCHANT_NAME                            0\n",
       "PURCHASE_VALUE                           0\n",
       "PURCHASED_AT                             0\n",
       "IS_PURCHASE_PAID_VIA_MPESA_SEND_MONEY    0\n",
       "USER_AGE                                 0\n",
       "USER_GENDER                              0\n",
       "USER_HOUSEHOLD                           0\n",
       "USER_INCOME                              0\n",
       "USER_ID                                  0\n",
       "Transaction_ID                           0\n",
       "dtype: int64"
      ]
     },
     "execution_count": 27,
     "metadata": {},
     "output_type": "execute_result"
    }
   ],
   "source": [
    "test.isna().sum()"
   ]
  },
  {
   "cell_type": "markdown",
   "metadata": {
    "id": "4aVy-Pr01Z3n"
   },
   "source": [
    "### One-hot encode"
   ]
  },
  {
   "cell_type": "code",
   "execution_count": 28,
   "metadata": {},
   "outputs": [],
   "source": [
    "train[\"train\"] = 1\n",
    "test[\"train\"] = 0"
   ]
  },
  {
   "cell_type": "code",
   "execution_count": 29,
   "metadata": {},
   "outputs": [],
   "source": [
    "all_data = pd.concat([train, test])"
   ]
  },
  {
   "cell_type": "code",
   "execution_count": 30,
   "metadata": {
    "id": "m2IvLQ6Yregx"
   },
   "outputs": [],
   "source": [
    "all_data = pd.get_dummies(all_data, prefix_sep=\"_\", columns=['MERCHANT_NAME'])"
   ]
  },
  {
   "cell_type": "markdown",
   "metadata": {
    "id": "E0RrIAKorrCd"
   },
   "source": [
    "Let's see how this affected the shapes"
   ]
  },
  {
   "cell_type": "code",
   "execution_count": 31,
   "metadata": {},
   "outputs": [],
   "source": [
    "train = all_data[all_data[\"train\"] == 1]\n",
    "test = all_data[all_data[\"train\"] == 0]"
   ]
  },
  {
   "cell_type": "code",
   "execution_count": 32,
   "metadata": {
    "colab": {
     "base_uri": "https://localhost:8080/"
    },
    "id": "Ur_WN81srqMF",
    "outputId": "af2e378c-1c37-485b-d201-bcdccde3b115"
   },
   "outputs": [
    {
     "name": "stdout",
     "output_type": "stream",
     "text": [
      "Train:  (373, 452)\n",
      "Test:  (558, 452)\n"
     ]
    }
   ],
   "source": [
    "print(\"Train: \", train.shape)\n",
    "print(\"Test: \", test.shape)"
   ]
  },
  {
   "cell_type": "markdown",
   "metadata": {
    "id": "_-hQBD7R1gF1"
   },
   "source": [
    "### Drop unnecessary columns"
   ]
  },
  {
   "cell_type": "code",
   "execution_count": 33,
   "metadata": {
    "id": "ySpFfwxJr4D7"
   },
   "outputs": [],
   "source": [
    "train = train.drop(['MERCHANT_CATEGORIZED_AT','PURCHASED_AT','USER_ID', 'Transaction_ID', \"train\"], axis=1)\n",
    "test = test.drop(['MERCHANT_CATEGORIZED_AT','PURCHASED_AT','USER_ID', \"train\", \"MERCHANT_CATEGORIZED_AS\"], axis=1)"
   ]
  },
  {
   "cell_type": "markdown",
   "metadata": {
    "id": "xRQDXQho1lBg"
   },
   "source": [
    "### Convert Boolean to Binary"
   ]
  },
  {
   "cell_type": "markdown",
   "metadata": {
    "id": "MX2U_Uc4sGB1"
   },
   "source": [
    "Now we convert boolean entries to binary."
   ]
  },
  {
   "cell_type": "code",
   "execution_count": 34,
   "metadata": {
    "id": "vQ0GOPUdsJlI"
   },
   "outputs": [],
   "source": [
    "# Based on our data set, this function converts boolean to binary entries\n",
    "def create_binary_cols(content):\n",
    "  if content == False:\n",
    "    content = 0\n",
    "  elif content == True:\n",
    "    content = 1\n",
    "  elif content == 'N':\n",
    "    content = 0\n",
    "  elif content == 'Y':\n",
    "    content = 1\n",
    "  elif content == 'Male':\n",
    "    content = 0\n",
    "  elif content == 'Female':\n",
    "    content = 1\n",
    "  return content"
   ]
  },
  {
   "cell_type": "code",
   "execution_count": 35,
   "metadata": {
    "id": "WV7llutosRsK"
   },
   "outputs": [],
   "source": [
    "# Gender column convert:\n",
    "train['USER_GENDER'] = train['USER_GENDER'].apply(create_binary_cols)\n",
    "test['USER_GENDER'] = test['USER_GENDER'].apply(create_binary_cols)\n",
    "\n",
    "# Is_purchase_paid_via_mpesa_send_money column convert:\n",
    "train['IS_PURCHASE_PAID_VIA_MPESA_SEND_MONEY'] = train['IS_PURCHASE_PAID_VIA_MPESA_SEND_MONEY'].apply(create_binary_cols)\n",
    "test['IS_PURCHASE_PAID_VIA_MPESA_SEND_MONEY'] = test['IS_PURCHASE_PAID_VIA_MPESA_SEND_MONEY'].apply(create_binary_cols)"
   ]
  },
  {
   "cell_type": "markdown",
   "metadata": {
    "id": "4ofAVhkhuarx"
   },
   "source": [
    "## 3. Data preparation for machine learning\n",
    "\n",
    "\n"
   ]
  },
  {
   "cell_type": "code",
   "execution_count": 36,
   "metadata": {
    "id": "v0Y0uKWguZ9n"
   },
   "outputs": [],
   "source": [
    "# Separate the features from the target in the training data\n",
    "X = train.drop([\"MERCHANT_CATEGORIZED_AS\"], axis=1)\n",
    "y = train[\"MERCHANT_CATEGORIZED_AS\"]"
   ]
  },
  {
   "cell_type": "code",
   "execution_count": 37,
   "metadata": {},
   "outputs": [
    {
     "data": {
      "text/plain": [
       "array(['Rent / Mortgage', 'Transport & Fuel', 'Data & WiFi',\n",
       "       'Loan Repayment', 'Bills & Fees', 'Miscellaneous', 'Groceries',\n",
       "       'Shopping', 'Family & Friends', 'Going out', 'Emergency fund',\n",
       "       'Health', 'Education'], dtype=object)"
      ]
     },
     "execution_count": 37,
     "metadata": {},
     "output_type": "execute_result"
    }
   ],
   "source": [
    "y.unique()"
   ]
  },
  {
   "cell_type": "code",
   "execution_count": 38,
   "metadata": {
    "colab": {
     "base_uri": "https://localhost:8080/"
    },
    "id": "iXwzW_sq1Arr",
    "outputId": "76cb1f56-1c85-46d5-a3c0-6f41f0a6d8d8"
   },
   "outputs": [
    {
     "data": {
      "text/plain": [
       "(373, 446)"
      ]
     },
     "execution_count": 38,
     "metadata": {},
     "output_type": "execute_result"
    }
   ],
   "source": [
    "X.shape"
   ]
  },
  {
   "cell_type": "code",
   "execution_count": 39,
   "metadata": {
    "id": "clVOI_t16J1k"
   },
   "outputs": [],
   "source": [
    "# # Split the training data\n",
    "\n",
    "X_train, X_val, y_train, y_val = train_test_split(X, y, test_size=0.1, random_state=101)"
   ]
  },
  {
   "cell_type": "markdown",
   "metadata": {
    "id": "iy2_NHkB2qH6"
   },
   "source": [
    "Fit models"
   ]
  },
  {
   "cell_type": "markdown",
   "metadata": {
    "id": "iDSfITip2u1y"
   },
   "source": [
    "Let's try a decision tree first"
   ]
  },
  {
   "cell_type": "code",
   "execution_count": 40,
   "metadata": {
    "id": "yRatl-C-2wWv"
   },
   "outputs": [
    {
     "name": "stdout",
     "output_type": "stream",
     "text": [
      "ACCURACY OF THE MODEL:  0.34210526315789475\n",
      "                  precision    recall  f1-score   support\n",
      "\n",
      "    Bills & Fees       0.36      0.67      0.47         6\n",
      "     Data & WiFi       1.00      0.50      0.67         4\n",
      "Family & Friends       0.00      0.00      0.00         6\n",
      "       Going out       0.29      0.50      0.36         4\n",
      "       Groceries       0.28      0.83      0.42         6\n",
      "          Health       0.00      0.00      0.00         1\n",
      "   Miscellaneous       0.00      0.00      0.00         4\n",
      "        Shopping       0.00      0.00      0.00         3\n",
      "Transport & Fuel       0.00      0.00      0.00         4\n",
      "\n",
      "        accuracy                           0.34        38\n",
      "       macro avg       0.21      0.28      0.21        38\n",
      "    weighted avg       0.24      0.34      0.25        38\n",
      "\n"
     ]
    }
   ],
   "source": [
    "# Creating a Decision tree classifier\n",
    "model_dtree = DecisionTreeClassifier(max_depth=5, random_state=101,\n",
    "                                     max_features = None, min_samples_leaf=8)\n",
    "\n",
    "# Training the model on the training dataset\n",
    "model_dtree.fit(X_train, y_train)\n",
    "\n",
    "# Predict\n",
    "y_pred = model_dtree.predict(X_val)\n",
    "\n",
    "# Calculate accuracy\n",
    "print(\"ACCURACY OF THE MODEL: \", accuracy_score(y_val, y_pred))\n",
    "\n",
    "# Classification report\n",
    "print(classification_report(y_val, y_pred))"
   ]
  },
  {
   "cell_type": "markdown",
   "metadata": {
    "id": "W0sgBhhK24ev"
   },
   "source": [
    "Let's try random forest with 100 estimators"
   ]
  },
  {
   "cell_type": "code",
   "execution_count": 38,
   "metadata": {
    "id": "RZNyCOCf26Gd"
   },
   "outputs": [
    {
     "name": "stdout",
     "output_type": "stream",
     "text": [
      "ACCURACY OF THE MODEL:  0.5\n",
      "                  precision    recall  f1-score   support\n",
      "\n",
      "    Bills & Fees       0.45      0.71      0.56         7\n",
      "     Data & WiFi       1.00      0.50      0.67         2\n",
      "  Emergency fund       0.00      0.00      0.00         1\n",
      "Family & Friends       0.86      0.75      0.80         8\n",
      "       Going out       0.14      1.00      0.25         1\n",
      "       Groceries       0.50      0.75      0.60         4\n",
      "   Miscellaneous       0.50      0.17      0.25         6\n",
      "        Shopping       1.00      0.50      0.67         2\n",
      "Transport & Fuel       0.33      0.14      0.20         7\n",
      "\n",
      "        accuracy                           0.50        38\n",
      "       macro avg       0.53      0.50      0.44        38\n",
      "    weighted avg       0.57      0.50      0.49        38\n",
      "\n"
     ]
    }
   ],
   "source": [
    "from sklearn.ensemble import RandomForestClassifier\n",
    "\n",
    "# Creating a RF classifier\n",
    "clf = RandomForestClassifier() \n",
    " \n",
    "# Training the model on the training dataset\n",
    "clf.fit(X_train, y_train)\n",
    " \n",
    "# Performing predictions on the test dataset\n",
    "y_pred = clf.predict(X_val)\n",
    "\n",
    "# Calculate accuracy\n",
    "print(\"ACCURACY OF THE MODEL: \", accuracy_score(y_val, y_pred))\n",
    "\n",
    "# Classification report\n",
    "print(classification_report(y_val, y_pred))\n"
   ]
  },
  {
   "cell_type": "code",
   "execution_count": null,
   "metadata": {},
   "outputs": [],
   "source": []
  }
 ],
 "metadata": {
  "colab": {
   "collapsed_sections": [],
   "name": "Alvinapp competition.ipynb",
   "provenance": [],
   "toc_visible": true
  },
  "kernelspec": {
   "display_name": "Python 3 (ipykernel)",
   "language": "python",
   "name": "python3"
  },
  "language_info": {
   "codemirror_mode": {
    "name": "ipython",
    "version": 3
   },
   "file_extension": ".py",
   "mimetype": "text/x-python",
   "name": "python",
   "nbconvert_exporter": "python",
   "pygments_lexer": "ipython3",
   "version": "3.9.12"
  }
 },
 "nbformat": 4,
 "nbformat_minor": 1
}
